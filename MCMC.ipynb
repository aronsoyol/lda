{
 "cells": [
  {
   "cell_type": "markdown",
   "metadata": {},
   "source": [
    "# Markov Chain Monte Carlo Method"
   ]
  },
  {
   "cell_type": "markdown",
   "metadata": {},
   "source": [
    "***\n"
   ]
  },
  {
   "cell_type": "markdown",
   "metadata": {},
   "source": [
    "## Monte Carlo 法(Sampling Method)\n",
    "\n",
    "- はシミュレーションや数値計算を乱数を用いて行う手法の総称。\n",
    "- 是指使用随机数（或更常见的伪随机数）来解决很多计算问题的方法。\n",
    "\n",
    "## Monte Carlo 積分\n",
    "\n",
    "- 以下の期待値は解析的方法を用いて厳密に評価出来ないと仮定する。$p(x)$は確率密度関数。\n",
    "\n",
    "$$\\mathbb{E}(f)=\\int f(x)p(x)dx.\\tag{1}$$\n",
    "\n",
    "- $p(x)$からのサンプルを独立にN個生成して$\\mathbb{E}(f)$を近似できる。\n",
    "\n",
    "$$\\mathbb{E}(f)\\approx\\frac{1}{N}\\sum\\limits_{n=1}^{N} f(z_n)\\tag{2}$$\n",
    "\n",
    "- 任意の関数$f(x)$の積分をモンテカルロ法で求める\n",
    "\n",
    "$$\\int_a^bf(x)dx\\tag{3}$$\n",
    "\n",
    "式(1)と違って分布$p(x)$が入ってない。\n",
    "以下のように式変換する。\n",
    "\n",
    "$$ {(a-b)}\\int_a^bf(x)\\frac{1}{a-b}dx= (a-b)\\int_a^bf(x)p(x)dx\\tag{4}$$\n",
    "\n",
    "$p(x)$は区間(a, b)での一様分布。"
   ]
  },
  {
   "cell_type": "markdown",
   "metadata": {},
   "source": [
    "## 様々な分布に従う乱数を発生させる問題\n",
    "\n",
    "- $X\\sim~U(0,1)$は既に実装済み\n",
    "\n",
    "- 任意の分布$p(x)$を従うサンプルをどうやって発生させる？（$U$を使って）"
   ]
  },
  {
   "cell_type": "markdown",
   "metadata": {},
   "source": [
    "### 逆関数法\n",
    "\n",
    "$$Y=g(X)$$\n",
    "$$X=h(Y)$$\n",
    "gとhは互いに逆関数である\n",
    "$$X\\sim~U(0,1)$$\n",
    "$$Y\\sim f(h(y))\\cdot |h'(y)|$$\n",
    "\n",
    "$g(x)$をデザインすることで様々な分布を得られる。"
   ]
  },
  {
   "cell_type": "markdown",
   "metadata": {},
   "source": [
    "### 棄却サンプリング\n",
    "\n",
    "http://aidiary.hatenablog.com/entry/20140712/1405165815\n",
    "\n",
    "### 重点サンプリング"
   ]
  },
  {
   "cell_type": "markdown",
   "metadata": {},
   "source": [
    "## MCMC\n",
    "***"
   ]
  },
  {
   "cell_type": "markdown",
   "metadata": {},
   "source": [
    "### 马尔科夫链\n",
    "\n",
    "随机过程满足以下条件\n",
    "$$P(x^{(t+1)}=j|x^{(0)}=i_0, x^{(1)}=i_1, ...,x^{(t-1)}=i_{t-1}, x^{(t)}=i )=P(x^{(t+1)}=j|x^{(t)}=i)$$"
   ]
  },
  {
   "cell_type": "markdown",
   "metadata": {},
   "source": [
    "- **马尔科夫性**： t+1时刻的状态只依赖t时刻的状态"
   ]
  },
  {
   "cell_type": "markdown",
   "metadata": {},
   "source": [
    "例：\n",
    "http://blog.csdn.net/shenxiaoming77/article/details/41805551\n",
    "\n",
    "马尔科夫链经过有限次转移后可以得到稳定的分布。"
   ]
  },
  {
   "cell_type": "markdown",
   "metadata": {},
   "source": [
    "#### 问题：\n",
    " - 稳定分布可能有多个\n",
    " \n",
    "- 怎样获取收敛于给定分布p的马尔科夫链(**任务**)\n",
    "\n",
    "#### 收敛于p的充分条件: \n",
    "- 细致平稳条件\n",
    "- 詳細釣り合い条件\n",
    "    $$p(i)T(i, j)=p(j)T(j, i)\\tag{5} \\\\T是转移概率：T(i, j)=p(j|i)$$\n"
   ]
  },
  {
   "cell_type": "markdown",
   "metadata": {},
   "source": [
    "## MH法\n",
    "\n",
    "### 描述\n",
    "\n",
    " 1. 取任意初始值$x^{(0)}$\n",
    " 1. 对于时刻t=1, 2, 3, ...重复以下步骤\n",
    " \n",
    "     （i） 使用提案分布$q(y|x)$生成$y$\n",
    "     \n",
    "     （ii） 使用均匀分布$U(0, 1)$生成$u$\n",
    "     $$x^{(t+1)}=\\left\\{\\begin{align*}&y  & & u \\leq \\alpha(x^{(t)}, y)\\\\&x^{(t)} & &其他 \\end{align*}\\right. \\tag{6}$$\n",
    "     \n",
    "     \n",
    "     \n",
    " $$\\alpha(x, y) = min\\left\\{1, \\frac{\\pi(y)q(x|y)}{\\pi(x)q(y|x)}\\right\\}\\tag{7}$$\n",
    " $\\pi $是稳定分布， $q$是提案分布，$\\alpha$是接受率\n",
    " \n",
    " \n",
    " ### 收敛证明\n",
    " \n",
    " 设$T(x,y)=q(y|x)\\alpha(x, y)$,于是\n",
    " $$\\begin{align*}\\\\\n",
    " \\pi(x)T(x,y)&=\\pi(x)q(y|x)\\alpha(x, y)\\\\\n",
    " &=\\pi(x)q(y|x)min\\left\\{1, \\frac{\\pi(y)q(x|y)}{\\pi(x)q(y|x)}\\right\\}\\\\\n",
    " &=min\\left\\{\\pi(x)q(y|x), \\pi(y)q(x|y)\\right\\}\\end{align*}\\tag{8}$$\n",
    " \n",
    " 而\n",
    " \n",
    " $$\\begin{align*}\\\\\n",
    " \\pi(y)T(y,x)&=\\pi(y)q(x|y)\\alpha(y, x)\\\\\n",
    " &=\\pi(y)q(x|y)min\\left\\{1, \\frac{\\pi(x)q(y|x)}{\\pi(y)q(x|y)}\\right\\}\\\\\n",
    " &=min\\left\\{\\pi(y)q(x|y), \\pi(x)q(y|x)\\right\\}\\end{align*}\\tag{9}$$\n",
    " \n",
    " 所以得到\n",
    " \n",
    " $$ \\pi(x)T(x,y)\n",
    "=\\pi(y)T(y,x)\\tag{10}$$\n",
    "\n",
    "满足细致平稳条件， 因此，MH算法得到的马尔科夫链收敛于分布$\\pi$\n",
    " "
   ]
  },
  {
   "cell_type": "markdown",
   "metadata": {},
   "source": [
    "### 编程实现 \n",
    "\n",
    "#### 目标分布(平稳分布，不变分布)： 混合高斯分布\n",
    "\n",
    "$$f(x) = r_1 \\frac{1}{\\sqrt{2\\pi}\\sigma_1}\\exp{\\left[\\frac{(x-\\mu_1)^2}{2\\sigma_1^2}\\right]} + r_2 \\frac{1}{\\sqrt{2\\pi}\\sigma_2}\\exp{\\left[\\frac{(x-\\mu_2)^2}{2\\sigma_2^2}\\right]}\\tag{11}$$\n",
    "\n",
    "$$\\begin{align*}&混合率： &r_1=0.3, r_2=0.7, \\\\&方差： &\\sigma_1^2=\\sigma_2^2=\\frac{1}{2}\\\\&平均： &\\mu_1=1.0, \\mu_2=-2.0\\end{align*}$$\n",
    "\n",
    "$$0.3* \\frac{1}{\\sqrt{\\pi}}\\exp{\\left[(x-1)^2\\right]} + 0.7 *\\frac{1}{\\sqrt{\\pi}}\\exp{\\left[(x+2)^2\\right]}\\tag{12}$$"
   ]
  },
  {
   "cell_type": "code",
   "execution_count": 1,
   "metadata": {},
   "outputs": [],
   "source": [
    "import math\n",
    "import random\n",
    "import numpy as np\n",
    "import matplotlib.pyplot as plt"
   ]
  },
  {
   "cell_type": "code",
   "execution_count": 2,
   "metadata": {},
   "outputs": [],
   "source": [
    "# target distribution , invariant 不变分布，目标分布\n",
    "def target_dist(x):\n",
    "    r = 0.3\n",
    "    mu1 = 1.0\n",
    "    mu2 = -2.0\n",
    "    #方差=0.5\n",
    "    x1 = x - mu1\n",
    "    x2 = x - mu2\n",
    "    e1 = np.exp(-x1 * x1) / np.sqrt(math.pi)\n",
    "    e2 = np.exp(-x2 * x2) / np.sqrt(math.pi)\n",
    "    return r * e1 + (1.0 - r) * e2\n",
    " \n"
   ]
  },
  {
   "cell_type": "code",
   "execution_count": 3,
   "metadata": {},
   "outputs": [
    {
     "data": {
      "image/png": "[encoded data removed]",
      "text/plain": [
       "<matplotlib.figure.Figure at 0x10fdbd7f0>"
      ]
     },
     "metadata": {},
     "output_type": "display_data"
    }
   ],
   "source": [
    "def plot_target_dist():\n",
    "    x = np.linspace(-5.0,  5.0, 1000)\n",
    "    y = target_dist(x)\n",
    "    plt.plot(x, y, 'r-', lw=2)\n",
    "\n",
    "#     # 提案分布（一様分布）を描画\n",
    "#     y = M * uniform.pdf(x)\n",
    "    plt.plot(x, y, 'r-')\n",
    "    plt.show()\n",
    "plot_target_dist()"
   ]
  },
  {
   "cell_type": "markdown",
   "metadata": {},
   "source": [
    "#### 提案分布 proposal distribution"
   ]
  },
  {
   "cell_type": "code",
   "execution_count": 4,
   "metadata": {},
   "outputs": [
    {
     "data": {
      "image/png": "[encoded data removed]",
      "text/plain": [
       "<matplotlib.figure.Figure at 0x1112c49b0>"
      ]
     },
     "metadata": {},
     "output_type": "display_data"
    }
   ],
   "source": [
    "def prop_dist1(mu, sigma):\n",
    "    return np.random.normal(mu, sigma)\n",
    "\n",
    "y =[]\n",
    "for i in range(100000):\n",
    "    y.append(prop_dist1(0, 2))\n",
    "plt.hist(y,bins=100, normed=True)\n",
    "plt.show()\n"
   ]
  },
  {
   "cell_type": "code",
   "execution_count": 5,
   "metadata": {},
   "outputs": [],
   "source": [
    "class MH():\n",
    "    def __init__(self, init_x, target_dist, prop_sigma, proposal):\n",
    "        self.x        = init_x\n",
    "        self.target_dist = target_dist\n",
    "        self.sigma    = prop_sigma\n",
    "        self.prop_dist = proposal\n",
    " \n",
    "    def update(self):\n",
    "        candx = self.prop_dist(self.x, self.sigma)\n",
    "        curp  = self.target_dist(self.x)\n",
    "        candp = self.target_dist(candx)\n",
    "        ratio = candp / curp if curp != 0.0 else 1.0\n",
    "        alph  = min(1.0, ratio)\n",
    "        r = random.random()\n",
    "        self.x = candx if r < alph else self.x\n",
    " \n",
    " \n",
    "# Histogram\n",
    "class Hist:\n",
    "    def __init__(self, minx, maxx, nbins):\n",
    "        self.minx = minx\n",
    "        self.maxx = maxx\n",
    "        self.nbins = nbins\n",
    "        self.span = (maxx - minx) / nbins\n",
    "        self.bins = [0] * nbins\n",
    " \n",
    "    def set_value(self, x):\n",
    "        b = int((x - self.minx) / self.span)\n",
    "        if b >= 0 and b < self.nbins:\n",
    "            self.bins[b] += 1\n",
    " \n",
    "    def __getitem__(self, i):\n",
    "        return self.bins[i]"
   ]
  },
  {
   "cell_type": "code",
   "execution_count": 6,
   "metadata": {},
   "outputs": [],
   "source": [
    "def mh_test(init_x, trial, target_dist, proposal_dist):\n",
    "    # instantiate M-H object\n",
    "    burn = int(trial / 10)\n",
    "    mh = MH(init_x, target_dist, 1.0, proposal_dist)\n",
    " \n",
    " \n",
    "    # burn-in\n",
    "    for i in range(burn):\n",
    "        mh.update()\n",
    " \n",
    "    # M-H simulation\n",
    "    samples=[]\n",
    "    for i in range(trial):\n",
    "        samples.append(mh.x)\n",
    "        mh.update()\n",
    "    \n",
    "    \n",
    "    # 目标分布\n",
    "    x = np.linspace(-5.0,  5.0, 1000)\n",
    "    y = target_dist(x)\n",
    "    plt.plot(x, y, 'r-', lw=2)\n",
    "    \n",
    "    #MH法生成的目标分布\n",
    "    plt.hist(samples,color=\"blue\", bins=100, normed=True)\n",
    "    \n",
    "    plt.show()\n"
   ]
  },
  {
   "cell_type": "code",
   "execution_count": 7,
   "metadata": {},
   "outputs": [
    {
     "data": {
      "image/png": "[encoded data removed]",
      "text/plain": [
       "<matplotlib.figure.Figure at 0x10e06d5f8>"
      ]
     },
     "metadata": {},
     "output_type": "display_data"
    }
   ],
   "source": [
    "mh_test(0.0, 100000, target_dist, prop_dist1)"
   ]
  },
  {
   "cell_type": "code",
   "execution_count": null,
   "metadata": {},
   "outputs": [],
   "source": []
  }
 ],
 "metadata": {
  "kernelspec": {
   "display_name": "Python 3",
   "language": "python",
   "name": "python3"
  },
  "language_info": {
   "codemirror_mode": {
    "name": "ipython",
    "version": 3
   },
   "file_extension": ".py",
   "mimetype": "text/x-python",
   "name": "python",
   "nbconvert_exporter": "python",
   "pygments_lexer": "ipython3",
   "version": "3.6.0"
  }
 },
 "nbformat": 4,
 "nbformat_minor": 2
}
