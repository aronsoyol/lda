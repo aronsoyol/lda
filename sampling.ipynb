{
 "cells": [
  {
   "cell_type": "code",
   "execution_count": 2,
   "metadata": {},
   "outputs": [],
   "source": [
    "import sys\n",
    "import math\n",
    "import random\n",
    "from collections import defaultdict\n",
    "import matplotlib.pyplot as plt"
   ]
  },
  {
   "cell_type": "markdown",
   "metadata": {},
   "source": [
    "# asdfasdf"
   ]
  },
  {
   "cell_type": "code",
   "execution_count": 3,
   "metadata": {},
   "outputs": [],
   "source": [
    "def sampleOne(probs):\n",
    "    z = 0\n",
    "    for k, v in probs.items():\n",
    "        z = z + v\n",
    "    remaining = random.uniform(0, z)\n",
    "    for k,v in probs.items():\n",
    "        remaining = remaining - v\n",
    "        if  remaining <= 0:\n",
    "            return k\n"
   ]
  },
  {
   "cell_type": "code",
   "execution_count": 21,
   "metadata": {},
   "outputs": [
    {
     "name": "stdout",
     "output_type": "stream",
     "text": [
      "C 249738\n",
      "A 500784\n",
      "B 249478\n",
      "p[A]=0.50\n",
      "p[B]=0.25\n",
      "p[C]=0.25\n"
     ]
    }
   ],
   "source": [
    "p ={\"A\": 0.5, \"B\":0.25, \"C\":0.25}\n",
    "mydic = defaultdict(lambda :0)\n",
    "sample_num = 1000000\n",
    "for i in range(sample_num):\n",
    "    mydic[sampleOne(p)] +=1\n",
    "for k, v in mydic.items():\n",
    "    print(k, v)\n",
    "# print (len(mydic))\n",
    "for k, v in sorted(mydic.items()):\n",
    "    print(\"p[%s]=%0.2f\"%(k, v/sample_num))"
   ]
  },
  {
   "cell_type": "code",
   "execution_count": 10,
   "metadata": {},
   "outputs": [],
   "source": [
    "class MyClass:\n",
    "    \"\"\"A simple example class\"\"\"         # 三重クォートによるコメント\n",
    "\n",
    "    def __init__(self):                  # コンストラクタ\n",
    "        self.name = \"\"\n",
    "\n",
    "    def getName(self):                   # getName()メソッド\n",
    "        return self.name\n",
    "\n",
    "    def setName(self, name):             # setName()メソッド\n",
    "        self.name = name"
   ]
  },
  {
   "cell_type": "code",
   "execution_count": 13,
   "metadata": {},
   "outputs": [],
   "source": [
    "obj = MyClass()"
   ]
  },
  {
   "cell_type": "code",
   "execution_count": null,
   "metadata": {
    "collapsed": true
   },
   "outputs": [],
   "source": [
    "obj.name"
   ]
  },
  {
   "cell_type": "code",
   "execution_count": null,
   "metadata": {},
   "outputs": [],
   "source": []
  }
 ],
 "metadata": {
  "kernelspec": {
   "display_name": "Python 3",
   "language": "python",
   "name": "python3"
  },
  "language_info": {
   "codemirror_mode": {
    "name": "ipython",
    "version": 3
   },
   "file_extension": ".py",
   "mimetype": "text/x-python",
   "name": "python",
   "nbconvert_exporter": "python",
   "pygments_lexer": "ipython3",
   "version": "3.6.0"
  }
 },
 "nbformat": 4,
 "nbformat_minor": 2
}
