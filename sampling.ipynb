{
 "cells": [
  {
   "cell_type": "code",
   "execution_count": 1,
   "metadata": {},
   "outputs": [],
   "source": [
    "import sys\n",
    "import math\n",
    "import random\n",
    "from collections import defaultdict\n",
    "import matplotlib.pyplot as plt\n"
   ]
  },
  {
   "cell_type": "markdown",
   "metadata": {},
   "source": [
    "# Sampling"
   ]
  },
  {
   "cell_type": "code",
   "execution_count": 2,
   "metadata": {},
   "outputs": [],
   "source": [
    "def sampleOne(probs):\n",
    "    z = 0\n",
    "    for k, v in probs.items():\n",
    "        z = z + v\n",
    "    remaining = random.uniform(0, z)\n",
    "    for k,v in probs.items():\n",
    "        remaining = remaining - v\n",
    "        if  remaining <= 0:\n",
    "            return k\n"
   ]
  },
  {
   "cell_type": "code",
   "execution_count": null,
   "metadata": {},
   "outputs": [],
   "source": [
    "p ={\"A\": 0.5, \"B\":0.25, \"C\":0.25}\n",
    "mydic = defaultdict(lambda :0)\n",
    "sample_num = 1000000\n",
    "for i in range(sample_num):\n",
    "    mydic[sampleOne(p)] +=1\n",
    "for k, v in mydic.items():\n",
    "    print(k, v)\n",
    "# print (len(mydic))\n",
    "for k, v in sorted(mydic.items()):\n",
    "    print(\"p[%s]=%0.2f\"%(k, v/sample_num))"
   ]
  },
  {
   "cell_type": "markdown",
   "metadata": {},
   "source": [
    "## 棄却法"
   ]
  },
  {
   "cell_type": "code",
   "execution_count": 11,
   "metadata": {},
   "outputs": [
    {
     "name": "stdout",
     "output_type": "stream",
     "text": [
      "M = 2.66974399495\n",
      "サンプル数: 100000 => 37850\n",
      "実際の受理率  : 0.378500\n",
      "理論的な受理率: 0.374568\n"
     ]
    },
    {
     "data": {
      "image/png": "[encoded data removed]",
      "text/plain": [
       "<matplotlib.figure.Figure at 0x1077b0c88>"
      ]
     },
     "metadata": {},
     "output_type": "display_data"
    }
   ],
   "source": [
    "# ベータ乱数を受理・棄却法で生成\n",
    "# 目標分布（ここではベータ分布）のpdfは既知とする\n",
    "# 提案分布として一様分布を使用\n",
    "\n",
    "import numpy as np\n",
    "import matplotlib.pyplot as plt\n",
    "import scipy.optimize\n",
    "from scipy.stats import uniform, beta\n",
    "\n",
    "np.random.seed()\n",
    "\n",
    "# 目標分布f\n",
    "f = beta(a=2.7, b=6.3).pdf\n",
    "\n",
    "# 提案分布g\n",
    "# 提案分布から乱数生成するためにgvも保持\n",
    "gv = uniform\n",
    "g = gv.pdf\n",
    "\n",
    "# 分布の上限を指定する定数Mを設定\n",
    "# ベータ分布のpdfの上限値を指定すればベータ分布をすべて覆える\n",
    "# 最大値を求めるためにベータ分布のpdfにマイナスをつけて\n",
    "# 最小値問題に帰着させる\n",
    "xopt = scipy.optimize.fmin(lambda x: -f(x), 0.0, disp=False)\n",
    "M = f(xopt)[0]\n",
    "print (\"M =\", M)\n",
    "\n",
    "# 受理・棄却法\n",
    "Nsim = 100000\n",
    "\n",
    "# 提案分布gからの乱数Yを生成\n",
    "Y = gv.rvs(size=Nsim)\n",
    "\n",
    "# 一様乱数UをNsim個生成\n",
    "U = uniform.rvs(size=Nsim)\n",
    "\n",
    "# Yから受理の条件を満たすサンプルXを残して残りを棄却\n",
    "X = Y[U <= f(Y) / (M * g(Y))]\n",
    "print (\"サンプル数: %d => %d\" % (len(Y), len(X)))\n",
    "print (\"実際の受理率  : %f\" % (len(X) / float(len(Y))))\n",
    "print (\"理論的な受理率: %f\" % (1.0 / M))\n",
    "\n",
    "# 目標分布を描画\n",
    "x = np.linspace(0.0, 1.0, 1000)\n",
    "y = f(x)\n",
    "plt.plot(x, y, 'r-', lw=2)\n",
    "\n",
    "# 提案分布（一様分布）を描画\n",
    "y = M * uniform.pdf(x)\n",
    "plt.plot(x, y, 'g-', lw=2)\n",
    "\n",
    "# 受理した乱数の分布を描画\n",
    "plt.hist(X, bins=50, normed=True)\n",
    "\n",
    "plt.show()"
   ]
  },
  {
   "cell_type": "code",
   "execution_count": 3,
   "metadata": {},
   "outputs": [],
   "source": [
    "ls = uniform.rvs(size=Nsim)"
   ]
  },
  {
   "cell_type": "code",
   "execution_count": 4,
   "metadata": {},
   "outputs": [
    {
     "data": {
      "text/plain": [
       "array([ 0.95204869,  0.61180557,  0.14219899, ...,  0.69008349,\n",
       "        0.08053099,  0.35148939])"
      ]
     },
     "execution_count": 4,
     "metadata": {},
     "output_type": "execute_result"
    }
   ],
   "source": [
    "ls"
   ]
  },
  {
   "cell_type": "code",
   "execution_count": 12,
   "metadata": {},
   "outputs": [],
   "source": [
    "X = Y[ls <= f(Y) / (M * g(Y))]"
   ]
  },
  {
   "cell_type": "markdown",
   "metadata": {},
   "source": [
    "# モンテカルロ法\n",
    "\n",
    "モンテカルロ法 (モンテカルロほう、Monte Carlo method, MC) とはシミュレーションや数値計算を乱数を用いて行う手法の総称。\n",
    "\n",
    "## モンテカルロ法で円周率\n",
    "\n",
    "一番簡単なモンテカルロ法の応用\n",
    "\n",
    "1. アルゴリズム１\n",
    "[https://mathtrain.jp/montecarlo](https://mathtrain.jp/montecarlo)\n",
    "\n",
    "    半径１の1/4の円の面積は$\\frac{\\pi}{4}$, 横軸座標X縦軸座標をYが一様分布の確率変数とすれば、たくさんの点（サンプリング）を生成。点が円の中に入る確率は$\\frac{\\pi}{4}$なので、$\\pi$=円の中に入った点の数割る点の総数。\n",
    "\n",
    "2. アルゴリズム２\n",
    "\n",
    "    - モンテカルロ積分\n",
    "    [http://aidiary.hatenablog.com/entry/20140728/1406555863](http://aidiary.hatenablog.com/entry/20140728/1406555863)\n",
    "    - 半径１の1/4 円の公式は$$y=\\sqrt{1-x^2}、ｘ\\in[0,1]$$この1/4の円の面積を積分で計算すると$$\\int_{0}^{1}\\sqrt{1-x^2}dx=\\frac{\\pi}{4}$$\n",
    "    .この積分にモンテカルロ積分を適用すると$$(1-0)\\int_{0}^{1}\\sqrt{1-x^2}(\\frac{1}{1-0})dx$$、ここで$\\frac{1}{1-0}$は[0,1]の一様分布の確率密度関数である。なので、この積分を以下のように近似計算できる。\n",
    "    $$\\begin{align*}\n",
    "    \\frac{\\pi}{4}&=(1-0)\\int_{0}^{1}\\sqrt{1-x^2}(\\frac{1}{1-0})dx  \\approx  \\frac{1}{N}\\sum\\limits_i^N\\sqrt{1-x_i^2}\\\\\n",
    "    \\pi&\\approx \\frac{4}{N}\\sum\\limits_{i=1}^N\\sqrt{1-x_i^2}\\end{align*}$$\n",
    "    "
   ]
  },
  {
   "cell_type": "code",
   "execution_count": 183,
   "metadata": {},
   "outputs": [],
   "source": [
    "ff = lambda x: np.sqrt(1-(x**2))"
   ]
  },
  {
   "cell_type": "code",
   "execution_count": 248,
   "metadata": {},
   "outputs": [],
   "source": [
    "pi_1_array = []\n",
    "pi_2_array = []\n",
    "X = np.array([])\n",
    "Y = np.array([])\n",
    "step = 10000\n",
    "for i in range(100):\n",
    "    X = np.append(X, uniform.rvs(size = step))\n",
    "    Y = np.append(Y, uniform.rvs(size = step))\n",
    "    count_in_circle = 0\n",
    "    for p0, p1 in zip(X, Y):\n",
    "#         print(p0, p1)\n",
    "        if (p0*p0 + p1*p1 <=1):\n",
    "            count_in_circle +=1\n",
    "\n",
    "#     print(len(in_pt))\n",
    "\n",
    "    pi_1 = 4 * count_in_circle/ len(X)\n",
    "    pi_2 = 4 * np.mean(ff(X))\n",
    "    \n",
    "    pi_1_array.append(pi_1)\n",
    "    pi_2_array.append(pi_2)\n",
    "    \n",
    "#     print(\"method1: %f, error = %f\"% (pi_1, np.pi - pi_1))\n",
    "#     print(\"method2: %f, error = %f\"% (pi_2, np.pi - pi_2))    \n",
    "#     print(\"\")"
   ]
  },
  {
   "cell_type": "markdown",
   "metadata": {},
   "source": [
    "## $\\pi$の値の推移"
   ]
  },
  {
   "cell_type": "code",
   "execution_count": 249,
   "metadata": {},
   "outputs": [
    {
     "data": {
      "image/png": "[encoded data removed]",
      "text/plain": [
       "<matplotlib.figure.Figure at 0x119ddda90>"
      ]
     },
     "metadata": {},
     "output_type": "display_data"
    }
   ],
   "source": [
    "plt.plot(range(100), pi_1_array, lw=1,color='b')\n",
    "plt.plot(range(100), pi_2_array, lw=1,color='r')\n",
    "plt.hlines(np.pi, -10, 100 )\n",
    "plt.show()"
   ]
  },
  {
   "cell_type": "markdown",
   "metadata": {},
   "source": [
    "## 二乗誤差の推移"
   ]
  },
  {
   "cell_type": "code",
   "execution_count": 251,
   "metadata": {},
   "outputs": [
    {
     "data": {
      "image/png": "[encoded data removed]",
      "text/plain": [
       "<matplotlib.figure.Figure at 0x109c8f5f8>"
      ]
     },
     "metadata": {},
     "output_type": "display_data"
    }
   ],
   "source": [
    "pi_1_square_err_array = [(p-np.pi)**2 for p in pi_1_array]\n",
    "pi_2_square_err_array = [(p-np.pi)**2 for p in pi_2_array]\n",
    "plt.plot(range(1,101), pi_1_square_err_array, lw=1,color='b')\n",
    "plt.plot(range(1,101), pi_2_square_err_array, lw=1,color='r')\n",
    "\n",
    "plt.show()\n"
   ]
  },
  {
   "cell_type": "code",
   "execution_count": null,
   "metadata": {},
   "outputs": [],
   "source": []
  }
 ],
 "metadata": {
  "kernelspec": {
   "display_name": "Python 3",
   "language": "python",
   "name": "python3"
  },
  "language_info": {
   "codemirror_mode": {
    "name": "ipython",
    "version": 3
   },
   "file_extension": ".py",
   "mimetype": "text/x-python",
   "name": "python",
   "nbconvert_exporter": "python",
   "pygments_lexer": "ipython3",
   "version": "3.6.0"
  }
 },
 "nbformat": 4,
 "nbformat_minor": 2
}
